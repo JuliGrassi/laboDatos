{
 "cells": [
  {
   "cell_type": "code",
   "execution_count": null,
   "id": "00894cc4",
   "metadata": {
    "ExecuteTime": {
     "end_time": "2024-03-19T15:23:44.512783351Z",
     "start_time": "2024-03-19T15:23:43.726402652Z"
    }
   },
   "outputs": [],
   "source": [
    "import matplotlib.pyplot as plt\n",
    "import seaborn as sns\n",
    "import numpy as np\n",
    "import pandas as pd"
   ]
  },
  {
   "cell_type": "markdown",
   "id": "9f94e4ae",
   "metadata": {},
   "source": [
    "# Clase 2"
   ]
  },
  {
   "cell_type": "markdown",
   "id": "96ae164a",
   "metadata": {},
   "source": [
    "## Biblioteca Pandas"
   ]
  },
  {
   "cell_type": "markdown",
   "id": "fc4ab234",
   "metadata": {},
   "source": [
    "Pandas es una biblioteca de Python muy usada para análisis y manipulación de datos. Provee principalmente dos tipos de clases para trabajar con datos:\n",
    "\n",
    "- **Series:** un vector unidimensional indexado, que contiene datos de cualquier tipo\n",
    "como números enteros, cadenas, objetos Python, etc.\n",
    "\n",
    "- **DataFrame:** una estructura de datos bidimensional que contiene datos como una matriz bidimensional o una tabla con filas y columnas.\n",
    "\n",
    "Bibliografía recomendada: Sección 5 de Python for Data Analysis, de Wes McKinney (creador de la biblioteca Pandas), disponible on-line en forma gratuita en la página\n",
    "https://wesmckinney.com/book/pandas-basics"
   ]
  },
  {
   "cell_type": "markdown",
   "id": "3ef0126f",
   "metadata": {},
   "source": [
    "### Series\n",
    "\n",
    "Las series de Pandas son vectores similares a los arrays de NumPy, que podemos indexar usando etiquetas.\n",
    "\n",
    "Crear la siguiente Series, observar qué devuelve array e index e interpretar."
   ]
  },
  {
   "cell_type": "code",
   "execution_count": null,
   "id": "bc0a954d",
   "metadata": {},
   "outputs": [],
   "source": [
    "import pandas as pd\n",
    "obj = pd.Series([7,4,-5,3])\n",
    "obj"
   ]
  },
  {
   "cell_type": "code",
   "execution_count": null,
   "id": "1bc941df",
   "metadata": {},
   "outputs": [],
   "source": [
    "obj.array"
   ]
  },
  {
   "cell_type": "code",
   "execution_count": null,
   "id": "a752f679",
   "metadata": {},
   "outputs": [],
   "source": [
    "obj.index # Por default , los indices van de 0 a N-1."
   ]
  },
  {
   "cell_type": "markdown",
   "id": "963a7137",
   "metadata": {},
   "source": [
    "Podemos asignar etiquetas (o índices) a cada valor de la serie."
   ]
  },
  {
   "cell_type": "code",
   "execution_count": null,
   "id": "29e0050a",
   "metadata": {},
   "outputs": [],
   "source": [
    "obj2 = pd.Series([np.pi,0,-2,1.41], index = [\"d\", \"b\", \"c\", \"a\"])\n",
    "display(obj2)\n",
    "display(obj2.array)\n",
    "display(obj2.index)"
   ]
  },
  {
   "cell_type": "markdown",
   "id": "5abf7e73",
   "metadata": {},
   "source": [
    "Al igual que con arrays de Numpy podemos acceder a los elementos por su posición, o podemos usar las etiquetas."
   ]
  },
  {
   "cell_type": "code",
   "execution_count": null,
   "id": "6846e8eb",
   "metadata": {},
   "outputs": [],
   "source": [
    "obj2[\"a\"]\n",
    "obj2[3]\n",
    "obj2[1:3]"
   ]
  },
  {
   "cell_type": "code",
   "execution_count": null,
   "id": "9e5ea340",
   "metadata": {},
   "outputs": [],
   "source": [
    "obj3 = obj2[[\"a\",\"b\"]]\n",
    "obj3\n",
    "obj3.index"
   ]
  },
  {
   "cell_type": "code",
   "execution_count": null,
   "id": "f35ec01e",
   "metadata": {},
   "outputs": [],
   "source": [
    "obj2[obj2>1]"
   ]
  },
  {
   "cell_type": "markdown",
   "id": "2672da04",
   "metadata": {},
   "source": [
    "Las operaciones que pueden aplicarse a numpy arrays pueden aplicarse también a series de Pandas, conservando los índices."
   ]
  },
  {
   "cell_type": "code",
   "execution_count": null,
   "id": "48458cce",
   "metadata": {},
   "outputs": [],
   "source": [
    "np.exp(obj2)"
   ]
  },
  {
   "cell_type": "code",
   "execution_count": null,
   "id": "c4065dd3",
   "metadata": {},
   "outputs": [],
   "source": [
    "obj2 * 3"
   ]
  },
  {
   "cell_type": "markdown",
   "id": "4991cd94",
   "metadata": {},
   "source": [
    "¿Qué esperamos que de este código?"
   ]
  },
  {
   "cell_type": "code",
   "execution_count": null,
   "id": "6bbf824b",
   "metadata": {},
   "outputs": [],
   "source": [
    "obj + obj2"
   ]
  },
  {
   "cell_type": "markdown",
   "id": "515b87af",
   "metadata": {},
   "source": [
    "NaN significa \"not a number\", se utiliza en series de Pandas para valores faltantes (missing values)."
   ]
  },
  {
   "cell_type": "code",
   "execution_count": null,
   "id": "d4e7aefa",
   "metadata": {},
   "outputs": [],
   "source": [
    "# Y ahora?\n",
    "obj4 = pd.Series([1,2,3,4], index = [\"d\", \"b\", \"y\", \"z\"])\n",
    "obj2 + obj4"
   ]
  },
  {
   "cell_type": "markdown",
   "id": "4e0f05da",
   "metadata": {},
   "source": [
    "Las series de Pandas tienen varias funciones útiles que iremos viendo más adelante. A modo de ejemplo, interpretar que hacen las siguientes funciones."
   ]
  },
  {
   "cell_type": "code",
   "execution_count": null,
   "id": "b448fa6f",
   "metadata": {},
   "outputs": [],
   "source": [
    "series1 = pd.Series([\"a\", \"b\", \"c\", \"b\", \"a\", \"c\", \"x\"])\n",
    "series1.isin([\"b\", \"c\"])"
   ]
  },
  {
   "cell_type": "code",
   "execution_count": null,
   "id": "28f8d0e6",
   "metadata": {},
   "outputs": [],
   "source": [
    "series1.value_counts()"
   ]
  },
  {
   "cell_type": "markdown",
   "id": "80bb43a6",
   "metadata": {},
   "source": [
    "### DataFrames\n",
    "Un data frame es una representación de los datos en formato de tabla en la que cada\n",
    "columna son vectores del mismo tamaño. Como cada columna es un vector, cada columna puede\n",
    "contener datos de un único tipo. Se pueden pensar como variables. Cada variable corresponde a una\n",
    "serie de Pandas, y todas las series de un dataframe están indexadas por los mismos ´ındices."
   ]
  },
  {
   "cell_type": "markdown",
   "id": "993b1dfc",
   "metadata": {},
   "source": [
    "Una forma de crear un data frame es utilizando un \"diccionario\". Todas las variables del\n",
    "diccionario deben ser vectores o listas de la misma longitud. "
   ]
  },
  {
   "cell_type": "code",
   "execution_count": null,
   "id": "23f7a594",
   "metadata": {},
   "outputs": [],
   "source": [
    "data = {\"nombres\": [\"Rodrigo\", \"Sergio\", \"Cristina\", \"Diana\"], \"altura\": np.array([178, 172, 175, 168]), \"peso\": np.array\n",
    "([81.2, 76.1, 68.5, 64.0])}\n",
    "display(data)"
   ]
  },
  {
   "cell_type": "code",
   "execution_count": null,
   "id": "6948e863",
   "metadata": {},
   "outputs": [],
   "source": [
    "type(data)"
   ]
  },
  {
   "cell_type": "code",
   "execution_count": null,
   "id": "4b9429af",
   "metadata": {},
   "outputs": [],
   "source": [
    "data[\"altura\"]"
   ]
  },
  {
   "cell_type": "code",
   "execution_count": null,
   "id": "09b222da",
   "metadata": {},
   "outputs": [],
   "source": [
    "# Creamos un data frame con esos datos, usando los nombres como etiquetas\n",
    "pacientes = pd.DataFrame(data)\n",
    "display(pacientes)"
   ]
  },
  {
   "cell_type": "code",
   "execution_count": null,
   "id": "bb0e5b81",
   "metadata": {},
   "outputs": [],
   "source": [
    "# En este ejemplo podemos usar los nombres como índices\n",
    "pacientes = pd.DataFrame(data).set_index(\"nombres\")\n",
    "display(pacientes)"
   ]
  },
  {
   "cell_type": "code",
   "execution_count": null,
   "id": "e39a4a1b",
   "metadata": {},
   "outputs": [],
   "source": [
    "# Podemos acceder a las columnas de dos formas distintas\n",
    "alturas = pacientes[\"altura\"]\n",
    "alturas"
   ]
  },
  {
   "cell_type": "code",
   "execution_count": null,
   "id": "30ed1a6a",
   "metadata": {},
   "outputs": [],
   "source": [
    "pacientes.altura"
   ]
  },
  {
   "cell_type": "code",
   "execution_count": null,
   "id": "615c4cda",
   "metadata": {},
   "outputs": [],
   "source": [
    "type(alturas)"
   ]
  },
  {
   "cell_type": "markdown",
   "id": "86653f0b",
   "metadata": {},
   "source": [
    "A diferencia de las matrices en Numpy, un DataFrame de Pandas es un conjunto de columnas, no de filas. \n",
    "Si queremos saber la altura de Rodrigo, pensar cuál de los dos comandos será correcto antes de ejecutarlos."
   ]
  },
  {
   "cell_type": "code",
   "execution_count": null,
   "id": "ce917a36",
   "metadata": {},
   "outputs": [],
   "source": [
    "pacientes[\"Rodrigo\"].altura\n",
    "#pacientes[\"altura\"].Rodrigo"
   ]
  },
  {
   "cell_type": "markdown",
   "id": "b9fefd45",
   "metadata": {},
   "source": [
    "Para acceder a una fila de un dataframe, podemos usar los métodos `loc[]` y `iloc[]`. \n",
    "\n",
    "¿Cómo se usan? ¿Cuál es la diferencia entre los dos comandos?"
   ]
  },
  {
   "cell_type": "code",
   "execution_count": null,
   "id": "db9f4da5",
   "metadata": {},
   "outputs": [],
   "source": []
  },
  {
   "cell_type": "markdown",
   "id": "4305af7a",
   "metadata": {},
   "source": [
    "## Gapminder"
   ]
  },
  {
   "cell_type": "markdown",
   "id": "4f4093e6",
   "metadata": {},
   "source": [
    "A modo de ejemplo, vamos a explorar el dataset Gapminder que contiene datos poblacionales y de desarrollo humano de distintos países a lo largo del tiempo.\n",
    "\n",
    "Si gapminder no está instalado, ejecutrar el siguiente comando para instalarlo"
   ]
  },
  {
   "cell_type": "code",
   "execution_count": null,
   "id": "8c4cc0cd",
   "metadata": {
    "ExecuteTime": {
     "end_time": "2024-03-19T15:23:44.697479194Z",
     "start_time": "2024-03-19T15:23:43.774388836Z"
    }
   },
   "outputs": [],
   "source": [
    "#pip install gapminder"
   ]
  },
  {
   "cell_type": "code",
   "execution_count": null,
   "id": "d26285f0",
   "metadata": {
    "ExecuteTime": {
     "end_time": "2024-03-19T15:23:44.698765707Z",
     "start_time": "2024-03-19T15:23:43.859332610Z"
    }
   },
   "outputs": [],
   "source": [
    "from gapminder import gapminder\n",
    "display(gapminder)"
   ]
  },
  {
   "cell_type": "code",
   "execution_count": null,
   "id": "b96b2ac6",
   "metadata": {
    "ExecuteTime": {
     "end_time": "2024-03-19T15:23:44.700055833Z",
     "start_time": "2024-03-19T15:23:44.054413327Z"
    }
   },
   "outputs": [],
   "source": [
    "gapminder.head()"
   ]
  },
  {
   "cell_type": "markdown",
   "id": "02df0bc3",
   "metadata": {},
   "source": [
    "Podemos ver información básica del DataFrame con la función info"
   ]
  },
  {
   "cell_type": "code",
   "execution_count": null,
   "id": "43cdfb0a",
   "metadata": {},
   "outputs": [],
   "source": [
    "gapminder.info()"
   ]
  },
  {
   "cell_type": "code",
   "execution_count": null,
   "id": "36356b88",
   "metadata": {
    "ExecuteTime": {
     "end_time": "2024-03-19T15:23:44.701369278Z",
     "start_time": "2024-03-19T15:23:44.157026762Z"
    }
   },
   "outputs": [],
   "source": [
    "# Vemos todos los países en la base\n",
    "gapminder[\"country\"].unique()"
   ]
  },
  {
   "cell_type": "code",
   "execution_count": null,
   "id": "222bdf49",
   "metadata": {
    "ExecuteTime": {
     "end_time": "2024-03-19T15:23:44.846530051Z",
     "start_time": "2024-03-19T15:23:44.244913486Z"
    }
   },
   "outputs": [],
   "source": [
    "# Cuántos países son?\n",
    "gapminder[\"country\"].nunique()"
   ]
  },
  {
   "cell_type": "code",
   "execution_count": null,
   "id": "f7287427",
   "metadata": {
    "ExecuteTime": {
     "end_time": "2024-03-19T15:23:44.847515587Z",
     "start_time": "2024-03-19T15:23:44.367442673Z"
    }
   },
   "outputs": [],
   "source": [
    "# Si queremos ver cuántos países hay en cada continente...\n",
    "# podemos agregupar por continente y ver el tamaño de cada grupo\n",
    "gapminder.groupby(\"continent\").size()"
   ]
  },
  {
   "cell_type": "code",
   "execution_count": null,
   "id": "5c590926",
   "metadata": {
    "ExecuteTime": {
     "end_time": "2024-03-19T15:23:44.849159811Z",
     "start_time": "2024-03-19T15:23:44.427622728Z"
    }
   },
   "outputs": [],
   "source": [
    "# Pero cada país aparece varias veces, con datos de distintos años.\n",
    "# Para contar sin repeticion usamos nuevamente nunique\n",
    "gapminder.groupby(\"continent\")[\"country\"].nunique()"
   ]
  },
  {
   "cell_type": "code",
   "execution_count": null,
   "id": "707ea087",
   "metadata": {
    "ExecuteTime": {
     "end_time": "2024-03-19T15:23:44.931473372Z",
     "start_time": "2024-03-19T15:23:44.518316808Z"
    }
   },
   "outputs": [],
   "source": [
    "# Si queremos calcular porcentajes, dividimos por la cantidad total de paises\n",
    "totalPaises = gapminder[\"country\"].nunique()\n",
    "gapminder.groupby(\"continent\")[\"country\"].nunique() / totalPaises"
   ]
  },
  {
   "cell_type": "code",
   "execution_count": null,
   "id": "c1a305ba",
   "metadata": {
    "ExecuteTime": {
     "end_time": "2024-03-19T15:23:44.961927050Z",
     "start_time": "2024-03-19T15:23:44.606595008Z"
    }
   },
   "outputs": [],
   "source": [
    "# O podemos usar el comando value_counts y pasarle un parámetro para que nos de los valores normalizados.\n",
    "# (la normalización lleva la suma total a 1)\n",
    "gapminder[[\"continent\", \"country\"]].drop_duplicates().continent.value_counts(normalize=True)"
   ]
  },
  {
   "cell_type": "code",
   "execution_count": null,
   "id": "4f0d1ddc",
   "metadata": {
    "ExecuteTime": {
     "end_time": "2024-03-19T15:23:44.963411631Z",
     "start_time": "2024-03-19T15:23:44.721009098Z"
    }
   },
   "outputs": [],
   "source": [
    "# Vemos todos los años disponibles\n",
    "gapminder[\"year\"].unique()"
   ]
  },
  {
   "cell_type": "code",
   "execution_count": null,
   "id": "16a30e71",
   "metadata": {
    "ExecuteTime": {
     "end_time": "2024-03-19T15:23:45.116261106Z",
     "start_time": "2024-03-19T15:23:44.805715110Z"
    }
   },
   "outputs": [],
   "source": [
    "# Tenemos datos de todos los países todos los años?\n",
    "# Agrupamos los datos por año y calculamos el tamaño de cada bloque\n",
    "gapminder.groupby(\"year\").size()"
   ]
  },
  {
   "cell_type": "code",
   "execution_count": null,
   "id": "91dfbdff",
   "metadata": {
    "ExecuteTime": {
     "end_time": "2024-03-19T15:23:45.381182124Z",
     "start_time": "2024-03-19T15:23:44.896707526Z"
    }
   },
   "outputs": [],
   "source": [
    "# O podemos usar directamente el comando value_counts\n",
    "gapminder.year.value_counts()"
   ]
  },
  {
   "cell_type": "code",
   "execution_count": null,
   "id": "03e2fe1e",
   "metadata": {
    "ExecuteTime": {
     "end_time": "2024-03-19T15:23:45.453839268Z",
     "start_time": "2024-03-19T15:23:45.027009268Z"
    }
   },
   "outputs": [],
   "source": [
    "# También podemos por ejemplo calcular la poblacion total por año\n",
    "gapminder.groupby(\"year\")[\"pop\"].sum()"
   ]
  },
  {
   "cell_type": "markdown",
   "id": "179ca112",
   "metadata": {},
   "source": [
    "### Gráficos simples de funciones o puntos en el plano XY.\n",
    "Vamos a graficar la población total mundial en función del año."
   ]
  },
  {
   "cell_type": "code",
   "execution_count": null,
   "id": "f1914548",
   "metadata": {
    "ExecuteTime": {
     "end_time": "2024-03-19T15:23:45.454437903Z",
     "start_time": "2024-03-19T15:23:45.132156941Z"
    }
   },
   "outputs": [],
   "source": [
    "pobAnual = gapminder.groupby(\"year\")[\"pop\"].sum()\n",
    "type(pobAnual)"
   ]
  },
  {
   "cell_type": "code",
   "execution_count": null,
   "id": "8dd72d48",
   "metadata": {},
   "outputs": [],
   "source": [
    "pobAnual"
   ]
  },
  {
   "cell_type": "code",
   "execution_count": null,
   "id": "3e4c1d07",
   "metadata": {},
   "outputs": [],
   "source": [
    "pobAnual.index"
   ]
  },
  {
   "cell_type": "code",
   "execution_count": null,
   "id": "1461988d",
   "metadata": {
    "ExecuteTime": {
     "end_time": "2024-03-19T15:23:46.001868982Z",
     "start_time": "2024-03-19T15:23:45.387304245Z"
    }
   },
   "outputs": [],
   "source": [
    "# Opción 1\n",
    "# Usamos la función plot de series de pandas\n",
    "pobAnual.plot()"
   ]
  },
  {
   "cell_type": "code",
   "execution_count": null,
   "id": "71fcc56c",
   "metadata": {},
   "outputs": [],
   "source": [
    "# O podemos graficar solo puntos\n",
    "pobAnual.plot(style = \".\")"
   ]
  },
  {
   "cell_type": "code",
   "execution_count": null,
   "id": "020d883e",
   "metadata": {
    "ExecuteTime": {
     "end_time": "2024-03-19T15:23:46.388427263Z",
     "start_time": "2024-03-19T15:23:45.978200471Z"
    }
   },
   "outputs": [],
   "source": [
    "# Opcion 3\n",
    "# Asignamos los valores a variables (arrays de numpy) y graficamos las variables\n",
    "x = pobAnual.index\n",
    "y = pobAnual.values\n",
    "plt.plot(x,y)"
   ]
  },
  {
   "cell_type": "code",
   "execution_count": null,
   "id": "9f21f7d8",
   "metadata": {},
   "outputs": [],
   "source": [
    "# Opcion 4\n",
    "# Matplotlib tiene una función scatter para graficar puntos\n",
    "plt.scatter(x,y)"
   ]
  },
  {
   "cell_type": "code",
   "execution_count": null,
   "id": "08d9f687",
   "metadata": {
    "ExecuteTime": {
     "end_time": "2024-03-19T15:23:46.415752460Z",
     "start_time": "2024-03-19T15:23:46.393011114Z"
    }
   },
   "outputs": [],
   "source": [
    "# Vamos a analizar los datos de 2007\n",
    "datos2007 = gapminder[gapminder[\"year\"]==2007]"
   ]
  },
  {
   "cell_type": "code",
   "execution_count": null,
   "id": "3ec615b7",
   "metadata": {
    "ExecuteTime": {
     "end_time": "2024-03-19T15:23:46.964079052Z",
     "start_time": "2024-03-19T15:23:46.401206852Z"
    }
   },
   "outputs": [],
   "source": [
    "# Queremos ver si hay relación entre el producto bruto y la expectativa de vida\n",
    "plt.plot(datos2007.gdpPercap, datos2007.lifeExp)"
   ]
  },
  {
   "cell_type": "code",
   "execution_count": null,
   "id": "4f0f0ccf",
   "metadata": {
    "ExecuteTime": {
     "end_time": "2024-03-19T15:23:47.227632707Z",
     "start_time": "2024-03-19T15:23:46.861070486Z"
    }
   },
   "outputs": [],
   "source": [
    "# Ay no, eso no, hacemos un \"scatter plot\"\n",
    "plt.scatter(datos2007.gdpPercap, datos2007.lifeExp)\n",
    "plt.show()"
   ]
  },
  {
   "cell_type": "code",
   "execution_count": null,
   "id": "ed95529f",
   "metadata": {
    "ExecuteTime": {
     "end_time": "2024-03-19T15:23:47.954400781Z",
     "start_time": "2024-03-19T15:23:47.193985736Z"
    }
   },
   "outputs": [],
   "source": [
    "# Se ve mejor la correlación si usamos escala logaritmica en el eje X\n",
    "plt.scatter(datos2007.gdpPercap, datos2007.lifeExp)\n",
    "plt.xscale('log')"
   ]
  },
  {
   "cell_type": "markdown",
   "id": "2477cca8",
   "metadata": {},
   "source": [
    "Vamos a mejorar un poco el gráfico"
   ]
  },
  {
   "cell_type": "code",
   "execution_count": null,
   "id": "bf189eeb",
   "metadata": {
    "ExecuteTime": {
     "end_time": "2024-03-19T15:23:48.701594467Z",
     "start_time": "2024-03-19T15:23:47.944668297Z"
    }
   },
   "outputs": [],
   "source": [
    "# Agregamos etiquetas al gráfico y a los ejes\n",
    "plt.scatter(datos2007.gdpPercap, datos2007.lifeExp)\n",
    "plt.xscale('log')\n",
    "plt.xlabel('GDP per Capita [en USD]')\n",
    "plt.ylabel('Expectativa de vida [en años]')\n",
    "plt.title('Desarrollo Mundial en 2007')\n",
    "plt.show()"
   ]
  },
  {
   "cell_type": "markdown",
   "id": "b91a1dae",
   "metadata": {},
   "source": [
    "Reemplacemos las marcas en el eje $x$ 10³, 10⁴, 10⁵ con 1k, 10k y 100k. "
   ]
  },
  {
   "cell_type": "code",
   "execution_count": null,
   "id": "bfb1f01d",
   "metadata": {
    "ExecuteTime": {
     "end_time": "2024-03-19T15:23:49.529819345Z",
     "start_time": "2024-03-19T15:23:48.700011287Z"
    }
   },
   "outputs": [],
   "source": [
    "plt.scatter(datos2007.gdpPercap, datos2007.lifeExp)\n",
    "plt.xscale('log')\n",
    "plt.xlabel('GDP per Capita [en USD]')\n",
    "plt.ylabel('Expectativa de vida [en años]')\n",
    "plt.title('Desarrollo Mundial en 2007')\n",
    "plt.xticks([1000, 10000, 100000],['1k', '10k', '100k'])\n",
    "plt.show()"
   ]
  },
  {
   "cell_type": "markdown",
   "id": "b633cac7",
   "metadata": {},
   "source": [
    "Seaborn es una biblioteca para visualización de datos en Python, basada en Matplotlib que agrega muchas funcioanlidades."
   ]
  },
  {
   "cell_type": "code",
   "execution_count": null,
   "id": "8e06126f",
   "metadata": {
    "ExecuteTime": {
     "end_time": "2024-03-19T15:23:50.528163241Z",
     "start_time": "2024-03-19T15:23:49.498944735Z"
    }
   },
   "outputs": [],
   "source": [
    "# Usamos scatterplot de seaborn para poder personalizar mejor el grafico\n",
    "\n",
    "# Almacenamos la población como un array de numpy: np_pop\n",
    "np_pop = np.array(datos2007[\"pop\"])\n",
    "\n",
    "sns.scatterplot(x = datos2007['gdpPercap'], y = datos2007['lifeExp'], hue = datos2007['continent'], size = np_pop*2, sizes=(20,400))\n",
    "plt.grid(True)\n",
    "plt.xscale('log')\n",
    "plt.xlabel('GDP per Capita [en USD]')\n",
    "plt.ylabel('Expectativa de vida [en años]')\n",
    "plt.title('Desarrollo Mundial en 2007')\n",
    "plt.xticks([1000, 10000, 100000],['1k', '10k', '100k'])\n",
    "plt.show()"
   ]
  },
  {
   "cell_type": "code",
   "execution_count": null,
   "id": "b13a5d4c",
   "metadata": {
    "ExecuteTime": {
     "end_time": "2024-03-19T15:23:51.443282463Z",
     "start_time": "2024-03-19T15:23:50.525686974Z"
    }
   },
   "outputs": [],
   "source": [
    "# Aumenta el tamaño del gráfico\n",
    "plt.figure(dpi=150)\n",
    "\n",
    "# Alcenamos la población como un array de numpy: np_pop\n",
    "np_pop = np.array(datos2007[\"pop\"])\n",
    "np_pop2 = np_pop*2\n",
    "# Usamos scatterplot de seaborn para poder personalizar mejor el grafico\n",
    "sns.scatterplot(x = datos2007['gdpPercap'], y = datos2007['lifeExp'], hue = datos2007['continent'], size = np_pop2, sizes=(20,400))\n",
    "plt.grid(True)\n",
    "plt.xscale('log')\n",
    "plt.xlabel('GDP per Capita [en USD]')\n",
    "plt.ylabel('Expectativa de vida [en años]')\n",
    "plt.title('Desarrollo Mundial en 2007')\n",
    "plt.xticks([1000, 10000, 100000],['1k', '10k', '100k'])\n",
    "plt.show()"
   ]
  },
  {
   "cell_type": "markdown",
   "id": "5594013d",
   "metadata": {},
   "source": [
    "## Archivos de datos"
   ]
  },
  {
   "cell_type": "markdown",
   "id": "860a0575",
   "metadata": {},
   "source": [
    "La biblioteca Pandas nos permite trabajar fácilmente con archivos de datos.\n",
    "1. Leer el archivo casos_coronavirus.csv .\n",
    "2. Graficar la curva de casos por día.\n",
    "3. Graficar la curva de casos acumulados.\n",
    "4. Definir log_cum_casos como el logaritmo de la cantidad de casos acumulados y graficar en función de la cantidad de días transcurridos.\n",
    "\n",
    "Utilicen o modifiquen el siguiente código."
   ]
  },
  {
   "cell_type": "code",
   "execution_count": null,
   "id": "de6f1c97",
   "metadata": {
    "ExecuteTime": {
     "end_time": "2024-03-19T15:23:45.623370291Z",
     "start_time": "2024-03-19T15:23:45.247789793Z"
    }
   },
   "outputs": [],
   "source": [
    "import pandas as pd\n",
    "import matplotlib.pyplot as plt\n",
    "df = pd.read_csv(\"../Datos/casos_coronavirus.csv\") # DataFrame\n",
    "df.head()  # Primeras filas del DataFrame"
   ]
  },
  {
   "cell_type": "code",
   "execution_count": null,
   "id": "60b99765",
   "metadata": {
    "ExecuteTime": {
     "end_time": "2024-03-19T15:23:45.623370291Z",
     "start_time": "2024-03-19T15:23:45.247789793Z"
    }
   },
   "outputs": [],
   "source": [
    "# Información básica del DataFrame\n",
    "df.info()"
   ]
  },
  {
   "cell_type": "code",
   "execution_count": null,
   "id": "82c7ece4",
   "metadata": {},
   "outputs": [],
   "source": [
    "df[\"confirmados_Nuevos\"].plot()"
   ]
  },
  {
   "cell_type": "code",
   "execution_count": null,
   "id": "a82472d2",
   "metadata": {},
   "outputs": [],
   "source": [
    "casos_acumulados = df[\"confirmados_Nuevos\"].cumsum()"
   ]
  },
  {
   "cell_type": "markdown",
   "id": "a08d72b6",
   "metadata": {},
   "source": [
    "## Estadística descriptiva"
   ]
  },
  {
   "cell_type": "markdown",
   "id": "b8ddcb9b",
   "metadata": {},
   "source": [
    "Mirando los datos de 2007, ¿cuál es el país con mayor expectativa de vida? ¿Cuál es el país con menor expectativa de vida?"
   ]
  },
  {
   "cell_type": "code",
   "execution_count": null,
   "id": "4d6030ce",
   "metadata": {},
   "outputs": [],
   "source": []
  },
  {
   "cell_type": "markdown",
   "id": "351856a8",
   "metadata": {},
   "source": [
    "### Medidas de tendencia central"
   ]
  },
  {
   "cell_type": "markdown",
   "id": "d1278bac",
   "metadata": {},
   "source": [
    "Para el año 2007, calcular el valor medio y la mediana de las variables gdpPercap y lifeExp entre todos los países.\n",
    "Son similares o distintas? A qué lo atribuyen? Consideran que alguna resume mejor la realidad que la otra?\n"
   ]
  },
  {
   "cell_type": "code",
   "execution_count": null,
   "id": "14ffc145",
   "metadata": {},
   "outputs": [],
   "source": [
    "datos2007[\"lifeExp\"].median()"
   ]
  },
  {
   "cell_type": "code",
   "execution_count": null,
   "id": "52f5a6c9",
   "metadata": {},
   "outputs": [],
   "source": [
    "datos2007[\"lifeExp\"].mean()"
   ]
  },
  {
   "cell_type": "code",
   "execution_count": null,
   "id": "a43f8ea0",
   "metadata": {},
   "outputs": [],
   "source": [
    "datos2007[\"gdpPercap\"].median()"
   ]
  },
  {
   "cell_type": "code",
   "execution_count": null,
   "id": "82094da8",
   "metadata": {},
   "outputs": [],
   "source": [
    "datos2007[\"gdpPercap\"].mean()"
   ]
  },
  {
   "cell_type": "markdown",
   "id": "d61130c2",
   "metadata": {},
   "source": [
    "Es lo mismo el promedio de entre todos los países de la expectativa de vida y el promedio entre todas las personas entre todas las personas?\n",
    "¿Cómo podemos calcular el promedio entre todas las personas?\n"
   ]
  },
  {
   "cell_type": "code",
   "execution_count": null,
   "id": "9bfaa36c",
   "metadata": {},
   "outputs": [],
   "source": []
  },
  {
   "cell_type": "markdown",
   "id": "e4c70f3f",
   "metadata": {},
   "source": [
    "### Medidas de dispersión"
   ]
  },
  {
   "cell_type": "markdown",
   "id": "54eecc70",
   "metadata": {},
   "source": [
    "Para el año 2007, calcular la varianza y el desvío estándar de las variables gdpPercap y lifeExp entre todos los países."
   ]
  },
  {
   "cell_type": "code",
   "execution_count": null,
   "id": "c94e6796",
   "metadata": {},
   "outputs": [],
   "source": [
    "datos2007[\"lifeExp\"].var()"
   ]
  },
  {
   "cell_type": "code",
   "execution_count": null,
   "id": "427cd17f",
   "metadata": {},
   "outputs": [],
   "source": [
    "datos2007[\"lifeExp\"].std()"
   ]
  },
  {
   "cell_type": "code",
   "execution_count": null,
   "id": "3731c8da",
   "metadata": {},
   "outputs": [],
   "source": []
  }
 ],
 "metadata": {
  "kernelspec": {
   "display_name": "Python 3 (ipykernel)",
   "language": "python",
   "name": "python3"
  },
  "language_info": {
   "codemirror_mode": {
    "name": "ipython",
    "version": 3
   },
   "file_extension": ".py",
   "mimetype": "text/x-python",
   "name": "python",
   "nbconvert_exporter": "python",
   "pygments_lexer": "ipython3",
   "version": "3.11.7"
  }
 },
 "nbformat": 4,
 "nbformat_minor": 5
}
